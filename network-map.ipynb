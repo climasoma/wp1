{
 "cells": [
  {
   "cell_type": "code",
   "execution_count": 1,
   "id": "51f41f39-3130-49fd-9a3f-856722027243",
   "metadata": {},
   "outputs": [],
   "source": [
    "import pandas as pd\n",
    "import networkx as nx # if 'module not found' -> !pip install networkx\n",
    "import matplotlib.pyplot as plt\n",
    "import numpy as np\n",
    "from pyvis.network import Network\n",
    "# if 'module not found' -> !pip install pyvis\n",
    "\n",
    "datadir = './'"
   ]
  },
  {
   "cell_type": "code",
   "execution_count": 12,
   "id": "693e64d6-d7a9-42ba-bb97-e0daa9d69684",
   "metadata": {},
   "outputs": [
    {
     "name": "stdout",
     "output_type": "stream",
     "text": [
      "145 nodes and 352 edges\n"
     ]
    }
   ],
   "source": [
    "# read the node and the edge matrix\n",
    "dfnode = pd.read_excel(datadir + 'network-map.xlsx', sheet_name='node')\n",
    "\n",
    "# make sure the columns are string not number and drop duplicates\n",
    "dfnode.loc[:, ['label']] = dfnode[['label']].astype(str)\n",
    "dfnode = dfnode.drop_duplicates().reset_index(drop=True)\n",
    "\n",
    "# select only 'project' nodes (comment the line if you want all nodes)\n",
    "#dfnode = dfnode[dfnode['node type'] == 'project'].reset_index(drop=True)\n",
    "\n",
    "dfedge = pd.read_excel(datadir + 'network-map.xlsx', sheet_name='edge')\n",
    "\n",
    "# make sure columns are string not number\n",
    "dfedge.loc[:, ['node1', 'node2']] = dfedge[['node1', 'node2']].astype(str)\n",
    "\n",
    "# sort the node1, node2 columns-wise so that we can remove duplicates such as\n",
    "# project1 -> project2 and project2 -> project1\n",
    "dfedge.loc[:, ['node1', 'node2']] = np.sort(dfedge[['node1', 'node2']].values, axis=1)\n",
    "dfedge = dfedge.drop_duplicates().reset_index(drop=True)\n",
    "\n",
    "# only select the edge for which both end nodes are in dfnode\n",
    "dfedge = dfedge[dfedge['node1'].isin(dfnode['label'].tolist()) & dfedge['node2'].isin(dfnode['label'].tolist())].reset_index(drop=True)\n",
    "\n",
    "print('{:d} nodes and {:d} edges'.format(dfnode.shape[0], dfedge.shape[0]))"
   ]
  },
  {
   "cell_type": "code",
   "execution_count": 13,
   "id": "5d3f6ba8-d614-4c7d-8f6c-f5e794a62dee",
   "metadata": {},
   "outputs": [
    {
     "data": {
      "text/html": [
       "<div>\n",
       "<style scoped>\n",
       "    .dataframe tbody tr th:only-of-type {\n",
       "        vertical-align: middle;\n",
       "    }\n",
       "\n",
       "    .dataframe tbody tr th {\n",
       "        vertical-align: top;\n",
       "    }\n",
       "\n",
       "    .dataframe thead th {\n",
       "        text-align: right;\n",
       "    }\n",
       "</style>\n",
       "<table border=\"1\" class=\"dataframe\">\n",
       "  <thead>\n",
       "    <tr style=\"text-align: right;\">\n",
       "      <th></th>\n",
       "      <th>label</th>\n",
       "      <th>project type</th>\n",
       "      <th>node type</th>\n",
       "      <th>size</th>\n",
       "      <th>Unnamed: 4</th>\n",
       "    </tr>\n",
       "  </thead>\n",
       "  <tbody>\n",
       "    <tr>\n",
       "      <th>0</th>\n",
       "      <td>LIFE AgroClimaWater</td>\n",
       "      <td>climate change adaptation</td>\n",
       "      <td>project</td>\n",
       "      <td>1</td>\n",
       "      <td>NaN</td>\n",
       "    </tr>\n",
       "    <tr>\n",
       "      <th>1</th>\n",
       "      <td>agriculture</td>\n",
       "      <td>NaN</td>\n",
       "      <td>keyword</td>\n",
       "      <td>1</td>\n",
       "      <td>NaN</td>\n",
       "    </tr>\n",
       "    <tr>\n",
       "      <th>2</th>\n",
       "      <td>water resources management</td>\n",
       "      <td>NaN</td>\n",
       "      <td>keyword</td>\n",
       "      <td>1</td>\n",
       "      <td>NaN</td>\n",
       "    </tr>\n",
       "    <tr>\n",
       "      <th>3</th>\n",
       "      <td>water shortage</td>\n",
       "      <td>NaN</td>\n",
       "      <td>keyword</td>\n",
       "      <td>1</td>\n",
       "      <td>NaN</td>\n",
       "    </tr>\n",
       "    <tr>\n",
       "      <th>4</th>\n",
       "      <td>climate resilience</td>\n",
       "      <td>NaN</td>\n",
       "      <td>keyword</td>\n",
       "      <td>1</td>\n",
       "      <td>NaN</td>\n",
       "    </tr>\n",
       "  </tbody>\n",
       "</table>\n",
       "</div>"
      ],
      "text/plain": [
       "                        label               project type node type  size  \\\n",
       "0         LIFE AgroClimaWater  climate change adaptation   project     1   \n",
       "1                 agriculture                        NaN   keyword     1   \n",
       "2  water resources management                        NaN   keyword     1   \n",
       "3              water shortage                        NaN   keyword     1   \n",
       "4          climate resilience                        NaN   keyword     1   \n",
       "\n",
       "   Unnamed: 4  \n",
       "0         NaN  \n",
       "1         NaN  \n",
       "2         NaN  \n",
       "3         NaN  \n",
       "4         NaN  "
      ]
     },
     "execution_count": 13,
     "metadata": {},
     "output_type": "execute_result"
    }
   ],
   "source": [
    "dfnode.head()  # .head() displays the first 5 rows of the dataframe"
   ]
  },
  {
   "cell_type": "code",
   "execution_count": 14,
   "id": "9e03196d-c141-43d2-a61e-00c17d558713",
   "metadata": {},
   "outputs": [
    {
     "data": {
      "text/html": [
       "<div>\n",
       "<style scoped>\n",
       "    .dataframe tbody tr th:only-of-type {\n",
       "        vertical-align: middle;\n",
       "    }\n",
       "\n",
       "    .dataframe tbody tr th {\n",
       "        vertical-align: top;\n",
       "    }\n",
       "\n",
       "    .dataframe thead th {\n",
       "        text-align: right;\n",
       "    }\n",
       "</style>\n",
       "<table border=\"1\" class=\"dataframe\">\n",
       "  <thead>\n",
       "    <tr style=\"text-align: right;\">\n",
       "      <th></th>\n",
       "      <th>node1</th>\n",
       "      <th>node2</th>\n",
       "      <th>weight</th>\n",
       "    </tr>\n",
       "  </thead>\n",
       "  <tbody>\n",
       "    <tr>\n",
       "      <th>0</th>\n",
       "      <td>LIFE ADAPT2CLIMA</td>\n",
       "      <td>LIFE AgroClimaWater</td>\n",
       "      <td>1</td>\n",
       "    </tr>\n",
       "    <tr>\n",
       "      <th>1</th>\n",
       "      <td>LIFE AGRI ADAPT</td>\n",
       "      <td>LIFE AgroClimaWater</td>\n",
       "      <td>1</td>\n",
       "    </tr>\n",
       "    <tr>\n",
       "      <th>2</th>\n",
       "      <td>LIFE AgroClimaWater</td>\n",
       "      <td>agriculture</td>\n",
       "      <td>1</td>\n",
       "    </tr>\n",
       "    <tr>\n",
       "      <th>3</th>\n",
       "      <td>LIFE AgroClimaWater</td>\n",
       "      <td>water resources management</td>\n",
       "      <td>1</td>\n",
       "    </tr>\n",
       "    <tr>\n",
       "      <th>4</th>\n",
       "      <td>LIFE AgroClimaWater</td>\n",
       "      <td>water shortage</td>\n",
       "      <td>1</td>\n",
       "    </tr>\n",
       "  </tbody>\n",
       "</table>\n",
       "</div>"
      ],
      "text/plain": [
       "                 node1                       node2  weight\n",
       "0     LIFE ADAPT2CLIMA         LIFE AgroClimaWater       1\n",
       "1     LIFE AGRI ADAPT          LIFE AgroClimaWater       1\n",
       "2  LIFE AgroClimaWater                 agriculture       1\n",
       "3  LIFE AgroClimaWater  water resources management       1\n",
       "4  LIFE AgroClimaWater              water shortage       1"
      ]
     },
     "execution_count": 14,
     "metadata": {},
     "output_type": "execute_result"
    }
   ],
   "source": [
    "dfedge.head()"
   ]
  },
  {
   "cell_type": "code",
   "execution_count": 15,
   "id": "6edf8370-ab0d-43b5-8e25-bacaeb385eff",
   "metadata": {},
   "outputs": [
    {
     "data": {
      "image/png": "[encoded data removed]",
      "text/plain": [
       "<Figure size 432x288 with 1 Axes>"
      ]
     },
     "metadata": {},
     "output_type": "display_data"
    }
   ],
   "source": [
    "# build the graph\n",
    "G = nx.Graph()\n",
    "\n",
    "# adding nodes\n",
    "for i in range(dfnode.shape[0]):\n",
    "    row = dfnode.loc[i, :]\n",
    "    G.add_node(str(row['label']), title=str(row['label']),\n",
    "               size=float(row['size'])*10, group=str(row['project type']))\n",
    "    # the title, size and group are used by pyvis but not by networkx\n",
    "    # networkx requires nx.draw_networkx with additional arguments\n",
    "    # similar remarks for the edges. This is the best of my knowledge so far\n",
    "\n",
    "# adding edges (links)\n",
    "for i in range(dfedge.shape[0]):\n",
    "    row = dfedge.loc[i, :]\n",
    "    G.add_edge(row['node1'], row['node2'])#, weight=row['weight']*10)\n",
    "\n",
    "# draw the network graph\n",
    "pos = nx.spring_layout(G)  # positions for all nodes\n",
    "fig, ax = plt.subplots()\n",
    "nx.draw_networkx_edges(G, pos, ax=ax, width=dfedge['weight'], alpha=0.5)\n",
    "nx.draw_networkx_nodes(G, pos, alpha=1, ax=ax, node_color='orange')#, node_size=dfnode['size'].values*1)\n",
    "nx.draw_networkx_labels(G, pos, font_family=\"sans-serif\", ax=ax)\n",
    "plt.axis(\"off\")\n",
    "fig.tight_layout()\n",
    "#nx.draw(G)"
   ]
  },
  {
   "cell_type": "code",
   "execution_count": 18,
   "id": "1e4b53ac-202d-4719-a23b-db88852ce8b5",
   "metadata": {},
   "outputs": [
    {
     "data": {
      "text/html": [
       "\n",
       "        <iframe\n",
       "            width=\"100%\"\n",
       "            height=\"100%\"\n",
       "            src=\"nx.html\"\n",
       "            frameborder=\"0\"\n",
       "            allowfullscreen\n",
       "        ></iframe>\n",
       "        "
      ],
      "text/plain": [
       "<IPython.lib.display.IFrame at 0x17490211220>"
      ]
     },
     "execution_count": 18,
     "metadata": {},
     "output_type": "execute_result"
    }
   ],
   "source": [
    "# interactive graph\n",
    "nt = Network('100%', '100%', notebook=True)\n",
    "nt.from_nx(G)\n",
    "#nt.show_buttons(filter_=['physics'])  # uncomment this line to show the options\n",
    "nt.show('nx.html') # can also open the .html"
   ]
  },
  {
   "cell_type": "code",
   "execution_count": null,
   "id": "bdcbcbe2-cbef-4ff4-a280-cd2898889b84",
   "metadata": {},
   "outputs": [],
   "source": []
  },
  {
   "cell_type": "code",
   "execution_count": null,
   "id": "a3ca2f99-56bf-4859-9998-413e7b942f0e",
   "metadata": {},
   "outputs": [],
   "source": []
  }
 ],
 "metadata": {
  "kernelspec": {
   "display_name": "Python 3",
   "language": "python",
   "name": "python3"
  },
  "language_info": {
   "codemirror_mode": {
    "name": "ipython",
    "version": 3
   },
   "file_extension": ".py",
   "mimetype": "text/x-python",
   "name": "python",
   "nbconvert_exporter": "python",
   "pygments_lexer": "ipython3",
   "version": "3.8.9"
  }
 },
 "nbformat": 4,
 "nbformat_minor": 5
}
